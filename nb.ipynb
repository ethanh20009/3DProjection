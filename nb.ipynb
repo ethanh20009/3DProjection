{
 "cells": [
  {
   "cell_type": "code",
   "execution_count": 20,
   "metadata": {},
   "outputs": [
    {
     "ename": "KeyboardInterrupt",
     "evalue": "",
     "output_type": "error",
     "traceback": [
      "\u001b[1;31m---------------------------------------------------------------------------\u001b[0m",
      "\u001b[1;31mKeyboardInterrupt\u001b[0m                         Traceback (most recent call last)",
      "\u001b[1;32m~\\AppData\\Local\\Temp/ipykernel_17716/1998899379.py\u001b[0m in \u001b[0;36m<module>\u001b[1;34m\u001b[0m\n\u001b[0;32m     65\u001b[0m     \u001b[0mcube\u001b[0m\u001b[1;33m.\u001b[0m\u001b[0mdraw\u001b[0m\u001b[1;33m(\u001b[0m\u001b[1;33m)\u001b[0m\u001b[1;33m\u001b[0m\u001b[1;33m\u001b[0m\u001b[0m\n\u001b[0;32m     66\u001b[0m \u001b[1;33m\u001b[0m\u001b[0m\n\u001b[1;32m---> 67\u001b[1;33m     \u001b[0mpygame\u001b[0m\u001b[1;33m.\u001b[0m\u001b[0mdisplay\u001b[0m\u001b[1;33m.\u001b[0m\u001b[0mflip\u001b[0m\u001b[1;33m(\u001b[0m\u001b[1;33m)\u001b[0m\u001b[1;33m\u001b[0m\u001b[1;33m\u001b[0m\u001b[0m\n\u001b[0m\u001b[0;32m     68\u001b[0m     \u001b[0mscreen\u001b[0m\u001b[1;33m.\u001b[0m\u001b[0mfill\u001b[0m\u001b[1;33m(\u001b[0m\u001b[1;33m(\u001b[0m\u001b[1;36m0\u001b[0m\u001b[1;33m,\u001b[0m\u001b[1;36m0\u001b[0m\u001b[1;33m,\u001b[0m\u001b[1;36m0\u001b[0m\u001b[1;33m)\u001b[0m\u001b[1;33m)\u001b[0m\u001b[1;33m\u001b[0m\u001b[1;33m\u001b[0m\u001b[0m\n\u001b[0;32m     69\u001b[0m \u001b[1;33m\u001b[0m\u001b[0m\n",
      "\u001b[1;31mKeyboardInterrupt\u001b[0m: "
     ]
    }
   ],
   "source": [
    "import numpy as np\n",
    "import pygame\n",
    "\n",
    "class Cube():\n",
    "    def __init__(self, pos, length) -> None:\n",
    "        self.pos = pos\n",
    "        self.length = length\n",
    "        self.lines = []\n",
    "        self.lines.append(Line(np.asarray([pos-length/2, pos-length/2, pos-length/2]), np.asarray([pos-length/2, pos+length/2, pos-length/2])))\n",
    "        self.lines.append(Line(np.asarray([pos-length/2, pos+length/2, pos-length/2]), np.asarray([pos+length/2, pos+length/2, pos-length/2])))\n",
    "        self.lines.append(Line(np.asarray([pos+length/2, pos+length/2, pos-length/2]), np.asarray([pos+length/2, pos-length/2, pos-length/2])))\n",
    "        self.lines.append(Line(np.asarray([pos+length/2, pos-length/2, pos-length/2]), np.asarray([pos-length/2, pos-length/2, pos-length/2])))\n",
    "\n",
    "        self.lines.append(Line(np.asarray([pos-length/2, pos-length/2, pos+length/2]), np.asarray([pos-length/2, pos+length/2, pos+length/2])))\n",
    "        self.lines.append(Line(np.asarray([pos-length/2, pos+length/2, pos+length/2]), np.asarray([pos+length/2, pos+length/2, pos+length/2])))\n",
    "        self.lines.append(Line(np.asarray([pos+length/2, pos+length/2, pos+length/2]), np.asarray([pos+length/2, pos-length/2, pos+length/2])))\n",
    "        self.lines.append(Line(np.asarray([pos+length/2, pos-length/2, pos+length/2]), np.asarray([pos-length/2, pos-length/2, pos+length/2])))\n",
    "\n",
    "    def draw(self):\n",
    "        for line in self.lines:\n",
    "            line.draw()\n",
    "class Line:\n",
    "    def __init__(self, pos1, pos2) -> None:\n",
    "        self.pos1 = pos1; self.pos2 = pos2;\n",
    "    \n",
    "    def draw(self):\n",
    "        d = 20\n",
    "\n",
    "        projectionT = np.asarray([\n",
    "            [1, 0, 0, 0],\n",
    "            [0, 1, 0, 0],\n",
    "            [0, 0, 1/d, 0]\n",
    "        ])\n",
    "        #Add homogeneous coord\n",
    "        p1 = np.append(self.pos1, 1)\n",
    "        p2 = np.append(self.pos2, 1)\n",
    "        #Turn into V\n",
    "        p1 = p1.T\n",
    "        p2 = p2.T\n",
    "        #Apply projection onto z = d\n",
    "        p1 = projectionT @ p1\n",
    "        p2 = projectionT @ p2\n",
    "\n",
    "        pygame.draw.line(screen, (0,0,255), tuple(p1.T[:-1]), tuple(p2.T[:-1]))\n",
    "\n",
    "    def transform(self, M):\n",
    "        p1 = M @ np.asarray(self.pos1).T\n",
    "        p2 = M @ np.asarray(self.pos2).T\n",
    "        \n",
    "\n",
    "pygame.init()\n",
    "\n",
    "\n",
    "screen = pygame.display.set_mode([500, 500])\n",
    "running = True\n",
    "cube = Cube(250, 50)\n",
    "\n",
    "\n",
    "\n",
    "while running:\n",
    "\n",
    "    for event in pygame.event.get():\n",
    "        if event.type == pygame.QUIT:\n",
    "            running = False\n",
    "    cube.draw()\n",
    "\n",
    "    pygame.display.flip()\n",
    "    screen.fill((0,0,0))\n",
    "\n",
    "pygame.quit()\n",
    "\n"
   ]
  },
  {
   "cell_type": "code",
   "execution_count": null,
   "metadata": {},
   "outputs": [],
   "source": []
  },
  {
   "cell_type": "code",
   "execution_count": null,
   "metadata": {},
   "outputs": [],
   "source": []
  }
 ],
 "metadata": {
  "kernelspec": {
   "display_name": "Python 3.8.8 ('base')",
   "language": "python",
   "name": "python3"
  },
  "language_info": {
   "codemirror_mode": {
    "name": "ipython",
    "version": 3
   },
   "file_extension": ".py",
   "mimetype": "text/x-python",
   "name": "python",
   "nbconvert_exporter": "python",
   "pygments_lexer": "ipython3",
   "version": "3.8.8"
  },
  "orig_nbformat": 4,
  "vscode": {
   "interpreter": {
    "hash": "ad2bdc8ecc057115af97d19610ffacc2b4e99fae6737bb82f5d7fb13d2f2c186"
   }
  }
 },
 "nbformat": 4,
 "nbformat_minor": 2
}
